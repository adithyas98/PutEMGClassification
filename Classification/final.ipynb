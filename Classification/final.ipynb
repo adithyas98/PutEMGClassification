{
 "cells": [
  {
   "cell_type": "code",
   "execution_count": 1,
   "metadata": {
    "colab": {
     "base_uri": "https://localhost:8080/"
    },
    "id": "tKmDuogCasff",
    "outputId": "dcf279b7-7186-4d59-b55f-369d1c6c45e4"
   },
   "outputs": [
    {
     "name": "stdout",
     "output_type": "stream",
     "text": [
      "Mounted at /content/drive\n"
     ]
    }
   ],
   "source": [
    "\n",
    "from google.colab import drive\n",
    "\n",
    "# The following command will prompt a URL for you to click and obtain the\n",
    "# authorization code\n",
    "\n",
    "drive.mount(\"/content/drive\")"
   ]
  },
  {
   "cell_type": "code",
   "execution_count": 2,
   "metadata": {
    "id": "y6vRDtIya46z"
   },
   "outputs": [],
   "source": [
    "data_path=\"/content/drive/My Drive/Colab Notebooks/data/\""
   ]
  },
  {
   "cell_type": "code",
   "execution_count": 3,
   "metadata": {
    "colab": {
     "base_uri": "https://localhost:8080/"
    },
    "id": "f2fH_I1TbA8k",
    "outputId": "4ea2083e-071e-4221-f07e-7e56bc4fa475"
   },
   "outputs": [
    {
     "name": "stdout",
     "output_type": "stream",
     "text": [
      "100\n",
      "200\n",
      "300\n",
      "400\n",
      "500\n",
      "600\n",
      "700\n",
      "800\n",
      "900\n",
      "1000\n",
      "1100\n",
      "1200\n",
      "1300\n",
      "1400\n",
      "1500\n",
      "1600\n",
      "1700\n",
      "1800\n",
      "1900\n",
      "2000\n",
      "2100\n",
      "2200\n",
      "2300\n",
      "2400\n",
      "2500\n",
      "2600\n",
      "2700\n",
      "2800\n",
      "2900\n",
      "3000\n",
      "3100\n",
      "3200\n",
      "3300\n",
      "3400\n",
      "3500\n",
      "3600\n",
      "3700\n",
      "3800\n",
      "3900\n",
      "4000\n",
      "4100\n",
      "4200\n",
      "4300\n",
      "4400\n",
      "4500\n",
      "4600\n",
      "4700\n",
      "4800\n",
      "4900\n",
      "5000\n",
      "5100\n",
      "5200\n",
      "5300\n",
      "5400\n",
      "5500\n",
      "5600\n",
      "5700\n",
      "5800\n",
      "5900\n",
      "6000\n",
      "6100\n",
      "6200\n",
      "6300\n",
      "6400\n",
      "6500\n",
      "6600\n",
      "6700\n",
      "6800\n",
      "6900\n",
      "7000\n",
      "7100\n",
      "7200\n",
      "7300\n",
      "7400\n",
      "7500\n",
      "7600\n",
      "7700\n",
      "7800\n",
      "7900\n",
      "8000\n"
     ]
    }
   ],
   "source": [
    "import json\n",
    "import os\n",
    "# import pandas as pd\n",
    "import numpy as np\n",
    "# df=pd.DataFrame()\n",
    "count=0\n",
    "dataset=[]\n",
    "labels=[]\n",
    "for folder in os.listdir(data_path):\n",
    "  for filename in os.listdir(data_path+folder)[::]:\n",
    "    with open(data_path+folder+\"/\"+filename) as f:\n",
    "      data = json.load(f)\n",
    "      if(int(data['label'])>0):\n",
    "        # df=df.append(pd.json_normalize(data))\n",
    "        li=[]\n",
    "        for i in list(data['data'].keys()):\n",
    "          npdata=np.array(data['data'][i])\n",
    "          li.append(np.pad(npdata,(0,10000-len(npdata)),'constant'))  #some windows smaller than 256000\n",
    "        ar=np.array(li)\n",
    "        dataset.append(ar)\n",
    "        labels.append(int(data['label']))\n",
    "      count+=1\n",
    "      if(count%100==0):\n",
    "        print(count)\n",
    "dataset1=np.array(dataset)"
   ]
  },
  {
   "cell_type": "code",
   "execution_count": 4,
   "metadata": {
    "colab": {
     "base_uri": "https://localhost:8080/"
    },
    "id": "56DTcvkHnVPr",
    "outputId": "e51751ab-9186-438c-d5d8-e68f7bfe247f"
   },
   "outputs": [
    {
     "data": {
      "text/plain": [
       "(1606, 23, 10000)"
      ]
     },
     "execution_count": 4,
     "metadata": {},
     "output_type": "execute_result"
    }
   ],
   "source": [
    "dataset1.shape"
   ]
  },
  {
   "cell_type": "code",
   "execution_count": 5,
   "metadata": {
    "colab": {
     "base_uri": "https://localhost:8080/"
    },
    "id": "Fv6mlcGQnaAj",
    "outputId": "25fd2b22-5a04-4c8a-ceda-e00b1fbfa4a3"
   },
   "outputs": [
    {
     "name": "stdout",
     "output_type": "stream",
     "text": [
      "Collecting einops\n",
      "  Downloading einops-0.3.2-py3-none-any.whl (25 kB)\n",
      "Installing collected packages: einops\n",
      "Successfully installed einops-0.3.2\n",
      "Requirement already satisfied: seaborn in /usr/local/lib/python3.7/dist-packages (0.11.2)\n",
      "Requirement already satisfied: numpy>=1.15 in /usr/local/lib/python3.7/dist-packages (from seaborn) (1.19.5)\n",
      "Requirement already satisfied: matplotlib>=2.2 in /usr/local/lib/python3.7/dist-packages (from seaborn) (3.2.2)\n",
      "Requirement already satisfied: scipy>=1.0 in /usr/local/lib/python3.7/dist-packages (from seaborn) (1.4.1)\n",
      "Requirement already satisfied: pandas>=0.23 in /usr/local/lib/python3.7/dist-packages (from seaborn) (1.1.5)\n",
      "Requirement already satisfied: kiwisolver>=1.0.1 in /usr/local/lib/python3.7/dist-packages (from matplotlib>=2.2->seaborn) (1.3.2)\n",
      "Requirement already satisfied: python-dateutil>=2.1 in /usr/local/lib/python3.7/dist-packages (from matplotlib>=2.2->seaborn) (2.8.2)\n",
      "Requirement already satisfied: pyparsing!=2.0.4,!=2.1.2,!=2.1.6,>=2.0.1 in /usr/local/lib/python3.7/dist-packages (from matplotlib>=2.2->seaborn) (3.0.6)\n",
      "Requirement already satisfied: cycler>=0.10 in /usr/local/lib/python3.7/dist-packages (from matplotlib>=2.2->seaborn) (0.11.0)\n",
      "Requirement already satisfied: pytz>=2017.2 in /usr/local/lib/python3.7/dist-packages (from pandas>=0.23->seaborn) (2018.9)\n",
      "Requirement already satisfied: six>=1.5 in /usr/local/lib/python3.7/dist-packages (from python-dateutil>=2.1->matplotlib>=2.2->seaborn) (1.15.0)\n",
      "Requirement already satisfied: prettytable in /usr/local/lib/python3.7/dist-packages (2.4.0)\n",
      "Requirement already satisfied: wcwidth in /usr/local/lib/python3.7/dist-packages (from prettytable) (0.2.5)\n",
      "Requirement already satisfied: importlib-metadata in /usr/local/lib/python3.7/dist-packages (from prettytable) (4.8.2)\n",
      "Requirement already satisfied: zipp>=0.5 in /usr/local/lib/python3.7/dist-packages (from importlib-metadata->prettytable) (3.6.0)\n",
      "Requirement already satisfied: typing-extensions>=3.6.4 in /usr/local/lib/python3.7/dist-packages (from importlib-metadata->prettytable) (3.10.0.2)\n",
      "Requirement already satisfied: sklearn in /usr/local/lib/python3.7/dist-packages (0.0)\n",
      "Requirement already satisfied: scikit-learn in /usr/local/lib/python3.7/dist-packages (from sklearn) (1.0.1)\n",
      "Requirement already satisfied: joblib>=0.11 in /usr/local/lib/python3.7/dist-packages (from scikit-learn->sklearn) (1.1.0)\n",
      "Requirement already satisfied: numpy>=1.14.6 in /usr/local/lib/python3.7/dist-packages (from scikit-learn->sklearn) (1.19.5)\n",
      "Requirement already satisfied: threadpoolctl>=2.0.0 in /usr/local/lib/python3.7/dist-packages (from scikit-learn->sklearn) (3.0.0)\n",
      "Requirement already satisfied: scipy>=1.1.0 in /usr/local/lib/python3.7/dist-packages (from scikit-learn->sklearn) (1.4.1)\n",
      "Collecting levenshtein\n",
      "  Downloading Levenshtein-0.16.0-cp37-cp37m-manylinux_2_5_x86_64.manylinux1_x86_64.manylinux_2_12_x86_64.manylinux2010_x86_64.whl (110 kB)\n",
      "\u001b[K     |████████████████████████████████| 110 kB 11.7 MB/s \n",
      "\u001b[?25hCollecting rapidfuzz<1.9,>=1.8.2\n",
      "  Downloading rapidfuzz-1.8.3-cp37-cp37m-manylinux_2_12_x86_64.manylinux2010_x86_64.whl (854 kB)\n",
      "\u001b[K     |████████████████████████████████| 854 kB 42.4 MB/s \n",
      "\u001b[?25hInstalling collected packages: rapidfuzz, levenshtein\n",
      "Successfully installed levenshtein-0.16.0 rapidfuzz-1.8.3\n",
      "Requirement already satisfied: tensorflow in /usr/local/lib/python3.7/dist-packages (2.7.0)\n",
      "Requirement already satisfied: opt-einsum>=2.3.2 in /usr/local/lib/python3.7/dist-packages (from tensorflow) (3.3.0)\n",
      "Requirement already satisfied: protobuf>=3.9.2 in /usr/local/lib/python3.7/dist-packages (from tensorflow) (3.17.3)\n",
      "Requirement already satisfied: absl-py>=0.4.0 in /usr/local/lib/python3.7/dist-packages (from tensorflow) (0.12.0)\n",
      "Requirement already satisfied: tensorflow-io-gcs-filesystem>=0.21.0 in /usr/local/lib/python3.7/dist-packages (from tensorflow) (0.22.0)\n",
      "Requirement already satisfied: astunparse>=1.6.0 in /usr/local/lib/python3.7/dist-packages (from tensorflow) (1.6.3)\n",
      "Requirement already satisfied: keras-preprocessing>=1.1.1 in /usr/local/lib/python3.7/dist-packages (from tensorflow) (1.1.2)\n",
      "Requirement already satisfied: flatbuffers<3.0,>=1.12 in /usr/local/lib/python3.7/dist-packages (from tensorflow) (2.0)\n",
      "Requirement already satisfied: wrapt>=1.11.0 in /usr/local/lib/python3.7/dist-packages (from tensorflow) (1.13.3)\n",
      "Requirement already satisfied: six>=1.12.0 in /usr/local/lib/python3.7/dist-packages (from tensorflow) (1.15.0)\n",
      "Requirement already satisfied: libclang>=9.0.1 in /usr/local/lib/python3.7/dist-packages (from tensorflow) (12.0.0)\n",
      "Requirement already satisfied: numpy>=1.14.5 in /usr/local/lib/python3.7/dist-packages (from tensorflow) (1.19.5)\n",
      "Requirement already satisfied: gast<0.5.0,>=0.2.1 in /usr/local/lib/python3.7/dist-packages (from tensorflow) (0.4.0)\n",
      "Requirement already satisfied: h5py>=2.9.0 in /usr/local/lib/python3.7/dist-packages (from tensorflow) (3.1.0)\n",
      "Requirement already satisfied: google-pasta>=0.1.1 in /usr/local/lib/python3.7/dist-packages (from tensorflow) (0.2.0)\n",
      "Requirement already satisfied: grpcio<2.0,>=1.24.3 in /usr/local/lib/python3.7/dist-packages (from tensorflow) (1.42.0)\n",
      "Requirement already satisfied: tensorboard~=2.6 in /usr/local/lib/python3.7/dist-packages (from tensorflow) (2.7.0)\n",
      "Requirement already satisfied: keras<2.8,>=2.7.0rc0 in /usr/local/lib/python3.7/dist-packages (from tensorflow) (2.7.0)\n",
      "Requirement already satisfied: wheel<1.0,>=0.32.0 in /usr/local/lib/python3.7/dist-packages (from tensorflow) (0.37.0)\n",
      "Requirement already satisfied: termcolor>=1.1.0 in /usr/local/lib/python3.7/dist-packages (from tensorflow) (1.1.0)\n",
      "Requirement already satisfied: tensorflow-estimator<2.8,~=2.7.0rc0 in /usr/local/lib/python3.7/dist-packages (from tensorflow) (2.7.0)\n",
      "Requirement already satisfied: typing-extensions>=3.6.6 in /usr/local/lib/python3.7/dist-packages (from tensorflow) (3.10.0.2)\n",
      "Requirement already satisfied: cached-property in /usr/local/lib/python3.7/dist-packages (from h5py>=2.9.0->tensorflow) (1.5.2)\n",
      "Requirement already satisfied: tensorboard-data-server<0.7.0,>=0.6.0 in /usr/local/lib/python3.7/dist-packages (from tensorboard~=2.6->tensorflow) (0.6.1)\n",
      "Requirement already satisfied: markdown>=2.6.8 in /usr/local/lib/python3.7/dist-packages (from tensorboard~=2.6->tensorflow) (3.3.6)\n",
      "Requirement already satisfied: tensorboard-plugin-wit>=1.6.0 in /usr/local/lib/python3.7/dist-packages (from tensorboard~=2.6->tensorflow) (1.8.0)\n",
      "Requirement already satisfied: google-auth-oauthlib<0.5,>=0.4.1 in /usr/local/lib/python3.7/dist-packages (from tensorboard~=2.6->tensorflow) (0.4.6)\n",
      "Requirement already satisfied: werkzeug>=0.11.15 in /usr/local/lib/python3.7/dist-packages (from tensorboard~=2.6->tensorflow) (1.0.1)\n",
      "Requirement already satisfied: setuptools>=41.0.0 in /usr/local/lib/python3.7/dist-packages (from tensorboard~=2.6->tensorflow) (57.4.0)\n",
      "Requirement already satisfied: requests<3,>=2.21.0 in /usr/local/lib/python3.7/dist-packages (from tensorboard~=2.6->tensorflow) (2.23.0)\n",
      "Requirement already satisfied: google-auth<3,>=1.6.3 in /usr/local/lib/python3.7/dist-packages (from tensorboard~=2.6->tensorflow) (1.35.0)\n",
      "Requirement already satisfied: pyasn1-modules>=0.2.1 in /usr/local/lib/python3.7/dist-packages (from google-auth<3,>=1.6.3->tensorboard~=2.6->tensorflow) (0.2.8)\n",
      "Requirement already satisfied: cachetools<5.0,>=2.0.0 in /usr/local/lib/python3.7/dist-packages (from google-auth<3,>=1.6.3->tensorboard~=2.6->tensorflow) (4.2.4)\n",
      "Requirement already satisfied: rsa<5,>=3.1.4 in /usr/local/lib/python3.7/dist-packages (from google-auth<3,>=1.6.3->tensorboard~=2.6->tensorflow) (4.8)\n",
      "Requirement already satisfied: requests-oauthlib>=0.7.0 in /usr/local/lib/python3.7/dist-packages (from google-auth-oauthlib<0.5,>=0.4.1->tensorboard~=2.6->tensorflow) (1.3.0)\n",
      "Requirement already satisfied: importlib-metadata>=4.4 in /usr/local/lib/python3.7/dist-packages (from markdown>=2.6.8->tensorboard~=2.6->tensorflow) (4.8.2)\n",
      "Requirement already satisfied: zipp>=0.5 in /usr/local/lib/python3.7/dist-packages (from importlib-metadata>=4.4->markdown>=2.6.8->tensorboard~=2.6->tensorflow) (3.6.0)\n",
      "Requirement already satisfied: pyasn1<0.5.0,>=0.4.6 in /usr/local/lib/python3.7/dist-packages (from pyasn1-modules>=0.2.1->google-auth<3,>=1.6.3->tensorboard~=2.6->tensorflow) (0.4.8)\n",
      "Requirement already satisfied: idna<3,>=2.5 in /usr/local/lib/python3.7/dist-packages (from requests<3,>=2.21.0->tensorboard~=2.6->tensorflow) (2.10)\n",
      "Requirement already satisfied: certifi>=2017.4.17 in /usr/local/lib/python3.7/dist-packages (from requests<3,>=2.21.0->tensorboard~=2.6->tensorflow) (2021.10.8)\n",
      "Requirement already satisfied: chardet<4,>=3.0.2 in /usr/local/lib/python3.7/dist-packages (from requests<3,>=2.21.0->tensorboard~=2.6->tensorflow) (3.0.4)\n",
      "Requirement already satisfied: urllib3!=1.25.0,!=1.25.1,<1.26,>=1.21.1 in /usr/local/lib/python3.7/dist-packages (from requests<3,>=2.21.0->tensorboard~=2.6->tensorflow) (1.24.3)\n",
      "Requirement already satisfied: oauthlib>=3.0.0 in /usr/local/lib/python3.7/dist-packages (from requests-oauthlib>=0.7.0->google-auth-oauthlib<0.5,>=0.4.1->tensorboard~=2.6->tensorflow) (3.1.1)\n"
     ]
    }
   ],
   "source": [
    "#Required Imports\n",
    "%matplotlib inline\n",
    "!pip install einops\n",
    "!pip install seaborn\n",
    "!pip install prettytable\n",
    "!pip install sklearn\n",
    "!pip install levenshtein\n",
    "!pip install tensorflow\n",
    "import gc\n",
    "import os\n",
    "\n",
    "import numpy as np\n",
    "import pandas as pd\n",
    "import matplotlib.pyplot as plt\n",
    "import seaborn as sns\n",
    "\n",
    "from collections import Counter\n",
    "import itertools\n",
    "import random\n",
    "from prettytable import PrettyTable\n",
    "from IPython.display import Image\n",
    "\n",
    "from sklearn.preprocessing import LabelEncoder\n",
    "from sklearn.metrics.pairwise import euclidean_distances\n",
    "from Levenshtein import distance as levenshtein_distance\n",
    "\n",
    "from tensorflow.keras.models import Model\n",
    "from tensorflow.keras.regularizers import l2\n",
    "from tensorflow.keras.constraints import max_norm\n",
    "from tensorflow.keras.utils import to_categorical\n",
    "from tensorflow.keras.preprocessing.text import Tokenizer\n",
    "from tensorflow.keras.preprocessing.sequence import pad_sequences\n",
    "from tensorflow.keras.callbacks import EarlyStopping\n",
    "from tensorflow.keras.layers import Input, Dense, Dropout, Flatten, Activation\n",
    "from tensorflow.keras.layers import Conv1D, Add, MaxPooling1D, BatchNormalization\n",
    "from tensorflow.keras.layers import Embedding, Bidirectional, LSTM, GlobalMaxPooling1D\n"
   ]
  },
  {
   "cell_type": "code",
   "execution_count": 6,
   "metadata": {
    "colab": {
     "base_uri": "https://localhost:8080/"
    },
    "id": "qnnT89BzFIte",
    "outputId": "bfaea969-eca6-4cd1-875c-1d088cd5921e"
   },
   "outputs": [
    {
     "name": "stdout",
     "output_type": "stream",
     "text": [
      "(963, 23, 10000)\n",
      "(321, 23, 10000)\n",
      "(322, 23, 10000)\n",
      "963\n",
      "321\n",
      "322\n",
      "\n",
      "(963, 10)\n"
     ]
    }
   ],
   "source": [
    "x_train=dataset1[:int(len(dataset1)*.6)]\n",
    "x_val=dataset1[int(len(dataset1)*.6):int(len(dataset1)*.8)]\n",
    "x_test=dataset1[int(len(dataset1)*.8):]\n",
    "#shape of data\n",
    "print(x_train.shape)\n",
    "print(x_val.shape)\n",
    "print(x_test.shape)\n",
    "y_train=labels[:int(len(labels)*.6)]\n",
    "y_val=labels[int(len(labels)*.6):int(len(labels)*.8)]\n",
    "y_test=labels[int(len(labels)*.8):]\n",
    "#shape of labels\n",
    "print(len(y_train))\n",
    "print(len(y_val))\n",
    "print(len(y_test))\n",
    "print(\"\")\n",
    "# One hot encoding of outputs\n",
    "y_train_orig=y_train\n",
    "y_val_orig=y_val\n",
    "y_test_orig=y_test\n",
    "\n",
    "from tensorflow.keras.utils import to_categorical\n",
    "y_train = to_categorical(y_train)\n",
    "y_val = to_categorical(y_val)\n",
    "y_test = to_categorical(y_test)\n",
    "print(y_train.shape)"
   ]
  },
  {
   "cell_type": "code",
   "execution_count": 7,
   "metadata": {
    "id": "jr3KxEoYn2ES"
   },
   "outputs": [],
   "source": [
    "#Utility functions: plot model's accuracy and loss\n",
    "\n",
    "# https://realpython.com/python-keras-text-classification/\n",
    "import matplotlib.pyplot as plt\n",
    "plt.style.use('ggplot')\n",
    "\n",
    "def plot_history(history):\n",
    "  acc = history.history['rmse']\n",
    "  val_acc = history.history['val_rmse']\n",
    "  loss = history.history['loss']\n",
    "  val_loss = history.history['val_loss']\n",
    "  x = range(1, len(acc) + 1)\n",
    "\n",
    "  plt.figure(figsize=(12, 5))\n",
    "  plt.subplot(1, 2, 1)\n",
    "  plt.plot(x, acc, 'b', label='Training acc')\n",
    "  plt.plot(x, val_acc, 'r', label='Validation acc')\n",
    "  plt.title('Training and validation accuracy')\n",
    "  plt.legend()\n",
    "\n",
    "  plt.subplot(1, 2, 2)\n",
    "  plt.plot(x, loss, 'b', label='Training loss')\n",
    "  plt.plot(x, val_loss, 'r', label='Validation loss')\n",
    "  plt.title('Training and validation loss')\n",
    "  plt.legend()\n",
    "\n",
    "# Utility function: Display model score(Loss & Accuracy) across all sets.\n",
    "\n",
    "def display_model_score(model, train, val, test, batch_size):\n",
    "\n",
    "  train_score = model.evaluate(train[0], train[1], batch_size=batch_size, verbose=1)\n",
    "  print('Train loss: ', train_score[0])\n",
    "  print('Train accuracy: ', train_score[1])\n",
    "  print('-'*70)\n",
    "\n",
    "  val_score = model.evaluate(val[0], val[1], batch_size=batch_size, verbose=1)\n",
    "  print('Val loss: ', val_score[0])\n",
    "  print('Val accuracy: ', val_score[1])\n",
    "  print('-'*70)\n",
    "  \n",
    "  test_score = model.evaluate(test[0], test[1], batch_size=batch_size, verbose=1)\n",
    "  print('Test loss: ', test_score[0])\n",
    "  print('Test accuracy: ', test_score[1])"
   ]
  },
  {
   "cell_type": "code",
   "execution_count": 8,
   "metadata": {
    "id": "eFE2yy9xn5HV"
   },
   "outputs": [],
   "source": [
    "# Evaluation function\n",
    "def evaluate_model(history,X_test,y_test,model):\n",
    "    scores = model.evaluate((X_test),y_test, verbose=0)\n",
    "    print(\"Accuracy: %.2f%%\" % (scores[1]*100))\n",
    "    \n",
    "    print(history)\n",
    "    fig1, ax_acc = plt.subplots()\n",
    "    plt.plot(history.history['accuracy'])\n",
    "    plt.plot(history.history['val_accuracy'])\n",
    "    plt.xlabel('Epoch')\n",
    "    plt.ylabel('Accuracy')\n",
    "    plt.title('Model - Accuracy')\n",
    "    plt.legend(['Training', 'Validation'], loc='lower right')\n",
    "    plt.show()\n",
    "    \n",
    "    fig2, ax_loss = plt.subplots()\n",
    "    plt.xlabel('Epoch')\n",
    "    plt.ylabel('Loss')\n",
    "    plt.title('Model- Loss')\n",
    "    plt.legend(['Training', 'Validation'], loc='upper right')\n",
    "    plt.plot(history.history['loss'])\n",
    "    plt.plot(history.history['val_loss'])\n",
    "    plt.show()\n",
    "    target_names=['1','2','3']\n",
    "    \n",
    "    y_true=[]\n",
    "    for element in y_test:\n",
    "        y_true.append(np.argmax(element))\n",
    "    prediction_proba=model.predict(X_test)\n",
    "    prediction=np.argmax(prediction_proba,axis=1)\n",
    "    cnf_matrix = confusion_matrix(y_true, prediction)\n",
    "    "
   ]
  },
  {
   "cell_type": "code",
   "execution_count": 9,
   "metadata": {
    "id": "buRxuSBWFcva"
   },
   "outputs": [],
   "source": [
    "from tensorflow import keras\n",
    "import tensorflow as tf\n",
    "\n",
    "#CNN:\n",
    "\n",
    "def network_CNN(X_train,y_train):\n",
    "    \n",
    "    im_shape = (23,10000)\n",
    "    inputs_cnn=Input(shape=im_shape, name='inputs_cnn')\n",
    "\n",
    "    #Convolution layer calcuations are based on: O = W-F+2P/S + 1\n",
    "    \n",
    "    #first convolution layer with filters=128, kernel_size=1\n",
    "    conv1d_1 = tf.keras.layers.Conv1D(\n",
    "        128, 1, strides=1,padding=\"valid\",dilation_rate=1, activation='relu',input_shape=im_shape)(inputs_cnn)\n",
    "    \n",
    "    #batch normalization layer \n",
    "    batch_normalization = tf.keras.layers.BatchNormalization()(conv1d_1)\n",
    "\n",
    "    #max pooling layer with pool_size=2, strides=2\n",
    "    max_pooling1d = tf.keras.layers.MaxPooling1D(pool_size=2, strides=2)(batch_normalization)\n",
    "\n",
    "    #flatten to lower dimension\n",
    "    flatten = Flatten()(max_pooling1d)\n",
    "\n",
    "    #two dense layers\n",
    "    dense = Dense(64, activation='relu')(flatten)\n",
    "    dense_1 = Dense(32, activation='relu')(dense)\n",
    "\n",
    "    #output with a softmax activation fxn to catagorize data\n",
    "    main_output = Dense(10, activation='softmax')(dense_1)\n",
    "\n",
    "   \n",
    "    model = Model(inputs= inputs_cnn, outputs=main_output)\n",
    "    model.compile(optimizer='adam', loss='categorical_crossentropy',metrics = ['accuracy'])\n",
    "\n",
    "    return(model)"
   ]
  },
  {
   "cell_type": "code",
   "execution_count": 10,
   "metadata": {
    "colab": {
     "base_uri": "https://localhost:8080/"
    },
    "id": "aQ0S9u2UIiGl",
    "outputId": "4b006dfc-b795-4a81-9ad4-b401530d0235"
   },
   "outputs": [
    {
     "name": "stdout",
     "output_type": "stream",
     "text": [
      "Model: \"model\"\n",
      "_________________________________________________________________\n",
      " Layer (type)                Output Shape              Param #   \n",
      "=================================================================\n",
      " inputs_cnn (InputLayer)     [(None, 23, 10000)]       0         \n",
      "                                                                 \n",
      " conv1d (Conv1D)             (None, 23, 128)           1280128   \n",
      "                                                                 \n",
      " batch_normalization (BatchN  (None, 23, 128)          512       \n",
      " ormalization)                                                   \n",
      "                                                                 \n",
      " max_pooling1d (MaxPooling1D  (None, 11, 128)          0         \n",
      " )                                                               \n",
      "                                                                 \n",
      " flatten (Flatten)           (None, 1408)              0         \n",
      "                                                                 \n",
      " dense (Dense)               (None, 64)                90176     \n",
      "                                                                 \n",
      " dense_1 (Dense)             (None, 32)                2080      \n",
      "                                                                 \n",
      " dense_2 (Dense)             (None, 10)                330       \n",
      "                                                                 \n",
      "=================================================================\n",
      "Total params: 1,373,226\n",
      "Trainable params: 1,372,970\n",
      "Non-trainable params: 256\n",
      "_________________________________________________________________\n",
      "None\n"
     ]
    }
   ],
   "source": [
    "\n",
    "model = network_CNN(x_train,y_train)\n",
    "print(model.summary())"
   ]
  },
  {
   "cell_type": "code",
   "execution_count": 11,
   "metadata": {
    "colab": {
     "base_uri": "https://localhost:8080/"
    },
    "id": "HOTU7HTZIil9",
    "outputId": "3659259d-f74b-42b0-c264-1f48910e8597"
   },
   "outputs": [
    {
     "name": "stdout",
     "output_type": "stream",
     "text": [
      "Epoch 1/20\n",
      "31/31 [==============================] - 15s 102ms/step - loss: 2.0422 - accuracy: 0.3614 - val_loss: 1.8298 - val_accuracy: 0.3801\n",
      "Epoch 2/20\n",
      "31/31 [==============================] - 1s 39ms/step - loss: 1.1581 - accuracy: 0.6116 - val_loss: 1.2448 - val_accuracy: 0.6822\n",
      "Epoch 3/20\n",
      "31/31 [==============================] - 1s 39ms/step - loss: 0.8890 - accuracy: 0.7134 - val_loss: 0.9812 - val_accuracy: 0.7508\n",
      "Epoch 4/20\n",
      "31/31 [==============================] - 1s 39ms/step - loss: 0.6273 - accuracy: 0.7985 - val_loss: 0.7635 - val_accuracy: 0.8131\n",
      "Epoch 5/20\n",
      "31/31 [==============================] - 1s 45ms/step - loss: 0.6679 - accuracy: 0.7840 - val_loss: 0.7325 - val_accuracy: 0.8193\n",
      "Epoch 6/20\n",
      "31/31 [==============================] - 1s 47ms/step - loss: 0.4229 - accuracy: 0.8525 - val_loss: 0.5350 - val_accuracy: 0.8629\n",
      "Epoch 7/20\n",
      "31/31 [==============================] - 1s 44ms/step - loss: 0.3490 - accuracy: 0.8816 - val_loss: 0.5125 - val_accuracy: 0.8910\n",
      "Epoch 8/20\n",
      "31/31 [==============================] - 1s 42ms/step - loss: 0.3707 - accuracy: 0.8920 - val_loss: 0.4874 - val_accuracy: 0.8847\n",
      "Epoch 9/20\n",
      "31/31 [==============================] - 1s 41ms/step - loss: 0.3646 - accuracy: 0.8868 - val_loss: 0.4581 - val_accuracy: 0.8847\n",
      "Epoch 10/20\n",
      "31/31 [==============================] - 1s 41ms/step - loss: 0.2728 - accuracy: 0.9076 - val_loss: 0.4356 - val_accuracy: 0.8816\n",
      "Epoch 11/20\n",
      "31/31 [==============================] - 1s 40ms/step - loss: 0.2324 - accuracy: 0.9294 - val_loss: 0.3382 - val_accuracy: 0.9283\n",
      "Epoch 12/20\n",
      "31/31 [==============================] - 1s 38ms/step - loss: 0.1514 - accuracy: 0.9637 - val_loss: 0.2944 - val_accuracy: 0.9377\n",
      "Epoch 13/20\n",
      "31/31 [==============================] - 1s 42ms/step - loss: 0.2261 - accuracy: 0.9263 - val_loss: 0.3570 - val_accuracy: 0.9097\n",
      "Epoch 14/20\n",
      "31/31 [==============================] - 1s 40ms/step - loss: 0.1873 - accuracy: 0.9418 - val_loss: 0.3106 - val_accuracy: 0.9283\n",
      "Epoch 15/20\n",
      "31/31 [==============================] - 1s 40ms/step - loss: 0.2205 - accuracy: 0.9315 - val_loss: 0.3274 - val_accuracy: 0.8972\n",
      "Epoch 00015: early stopping\n"
     ]
    }
   ],
   "source": [
    "# Train you model\n",
    "\n",
    "es = EarlyStopping(monitor='val_loss',patience=3, verbose=1)\n",
    "\n",
    "history = model.fit(x_train, y_train,epochs=20, batch_size=32,validation_data=(x_val,y_val), callbacks=[es])"
   ]
  },
  {
   "cell_type": "code",
   "execution_count": 12,
   "metadata": {
    "colab": {
     "base_uri": "https://localhost:8080/",
     "height": 616
    },
    "id": "taEMwdHOImY0",
    "outputId": "10a6e3cf-daec-4f6a-b062-097ab6d93490"
   },
   "outputs": [
    {
     "name": "stdout",
     "output_type": "stream",
     "text": [
      "Accuracy: 91.93%\n",
      "<keras.callbacks.History object at 0x7facc06e6290>\n"
     ]
    },
    {
     "data": {
      "image/png": "[encoded data removed]",
      "text/plain": [
       "<Figure size 432x288 with 1 Axes>"
      ]
     },
     "metadata": {},
     "output_type": "display_data"
    },
    {
     "data": {
      "image/png": "[encoded data removed]",
      "text/plain": [
       "<Figure size 432x288 with 1 Axes>"
      ]
     },
     "metadata": {},
     "output_type": "display_data"
    }
   ],
   "source": [
    "# Print result and plot accuracy and loss\n",
    "\n",
    "from sklearn.metrics import confusion_matrix\n",
    "\n",
    "evaluate_model(history,x_test,y_test,model)"
   ]
  },
  {
   "cell_type": "code",
   "execution_count": 13,
   "metadata": {
    "colab": {
     "base_uri": "https://localhost:8080/"
    },
    "id": "RkcyMx8G78U6",
    "outputId": "b1a0c9a7-f14c-4da2-a25f-b78203058430"
   },
   "outputs": [
    {
     "name": "stdout",
     "output_type": "stream",
     "text": [
      "Accuracy of cnn model: 91.93%\n"
     ]
    }
   ],
   "source": [
    "# eval metric : \n",
    "scores = model.evaluate((x_test),y_test, verbose=0)\n",
    "cnn_acc = \"Accuracy of cnn model: %.2f%%\" % (scores[1]*100)\n",
    "print(cnn_acc)"
   ]
  },
  {
   "cell_type": "code",
   "execution_count": 47,
   "metadata": {
    "colab": {
     "base_uri": "https://localhost:8080/",
     "height": 852
    },
    "id": "zk9Nke828Fy5",
    "outputId": "97bd7755-7d70-4c18-a1af-82b1f60e405d"
   },
   "outputs": [
    {
     "data": {
      "image/png": "[encoded data removed]",
      "text/plain": [
       "<Figure size 1080x1080 with 2 Axes>"
      ]
     },
     "metadata": {},
     "output_type": "display_data"
    }
   ],
   "source": [
    "from mlxtend.plotting import plot_confusion_matrix    \n",
    "\n",
    "y_pred=model.predict(x_test)\n",
    "\n",
    "#maximum values in an axis\n",
    "prediction = np.argmax(y_pred,axis=1)\n",
    "\n",
    "import numpy as np\n",
    "label=np.argmax(y_test, axis=1)\n",
    "label[1]\n",
    "\n",
    "#confution matrix based on x_test and y_pred\n",
    "cnn_matrix = confusion_matrix(label, prediction)\n",
    "\n",
    "#plot confusion matrices for each model\n",
    "\n",
    "classes = ['0', '1', '2' , '3' , '4' , '5' , '6']\n",
    "\n",
    "plot_1 = plot_confusion_matrix(conf_mat = cnn_matrix,\n",
    "                                colorbar=True,\n",
    "                                show_absolute=True,\n",
    "                                show_normed=True,\n",
    "                                figsize=(15,15))\n",
    "\n",
    "\n"
   ]
  }
 ],
 "metadata": {
  "accelerator": "GPU",
  "colab": {
   "collapsed_sections": [],
   "name": "final.ipynb",
   "provenance": []
  },
  "kernelspec": {
   "display_name": "Python 3",
   "language": "python",
   "name": "python3"
  },
  "language_info": {
   "codemirror_mode": {
    "name": "ipython",
    "version": 3
   },
   "file_extension": ".py",
   "mimetype": "text/x-python",
   "name": "python",
   "nbconvert_exporter": "python",
   "pygments_lexer": "ipython3",
   "version": "3.8.5"
  }
 },
 "nbformat": 4,
 "nbformat_minor": 1
}
