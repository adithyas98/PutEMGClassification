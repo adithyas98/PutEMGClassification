{
 "cells": [
  {
   "cell_type": "markdown",
   "metadata": {},
   "source": [
    "# Data Organizer\n",
    "\n",
    "This Jupyter Notebook will serve the purpose of removing all the data files that we don't want\n",
    "\n"
   ]
  },
  {
   "cell_type": "code",
   "execution_count": 2,
   "metadata": {},
   "outputs": [],
   "source": [
    "import os\n",
    "import pandas as pd"
   ]
  },
  {
   "cell_type": "markdown",
   "metadata": {},
   "source": [
    "## Commented Code\n",
    "\n",
    "The commented code has already been run and is commented out to prevent errors since file structures have changed"
   ]
  },
  {
   "cell_type": "code",
   "execution_count": 2,
   "metadata": {},
   "outputs": [
    {
     "data": {
      "text/plain": [
       "'\\n#Change directory to the data directory\\nos.chdir(\"/Users/adish/Documents/School/Fall 2021 Courses/Deep Learning - Signals/Final Project/EMGGestureClassification/Data/Data-HDF5\")\\n\\n#now we can print out all of the data files that end in .hdf5\\nfor filename in os.listdir():\\n    if filename.endswith(\".hdf5\"):\\n        print(filename)\\n'"
      ]
     },
     "execution_count": 2,
     "metadata": {},
     "output_type": "execute_result"
    }
   ],
   "source": [
    "'''\n",
    "#Change directory to the data directory\n",
    "os.chdir(\"/Users/adish/Documents/School/Fall 2021 Courses/Deep Learning - Signals/Final Project/EMGGestureClassification/Data/Data-HDF5\")\n",
    "\n",
    "#now we can print out all of the data files that end in .hdf5\n",
    "for filename in os.listdir():\n",
    "    if filename.endswith(\".hdf5\"):\n",
    "        print(filename)\n",
    "'''"
   ]
  },
  {
   "cell_type": "code",
   "execution_count": 3,
   "metadata": {},
   "outputs": [
    {
     "data": {
      "text/plain": [
       "'\\nfor filename in os.listdir():\\n    if filename.endswith(\".hdf5\") and \\'sequential\\' in filename:\\n        print(filename)\\n'"
      ]
     },
     "execution_count": 3,
     "metadata": {},
     "output_type": "execute_result"
    }
   ],
   "source": [
    "'''\n",
    "for filename in os.listdir():\n",
    "    if filename.endswith(\".hdf5\") and 'sequential' in filename:\n",
    "        print(filename)\n",
    "'''"
   ]
  },
  {
   "cell_type": "code",
   "execution_count": 4,
   "metadata": {},
   "outputs": [
    {
     "data": {
      "text/plain": [
       "'\\nos.mkdir(\"sequential\")\\nos.mkdir(\"repeats-long\")\\nos.mkdir(\"repeats-short\")\\n'"
      ]
     },
     "execution_count": 4,
     "metadata": {},
     "output_type": "execute_result"
    }
   ],
   "source": [
    "'''\n",
    "os.mkdir(\"sequential\")\n",
    "os.mkdir(\"repeats-long\")\n",
    "os.mkdir(\"repeats-short\")\n",
    "'''"
   ]
  },
  {
   "cell_type": "code",
   "execution_count": 3,
   "metadata": {},
   "outputs": [],
   "source": [
    "base = \"/Users/adish/Documents/School/Fall 2021 Courses/Deep Learning - Signals/Final Project/EMGGestureClassification/Data/Data-HDF5\"\n",
    "\n",
    "seq = os.path.join(base,\"sequential\")\n",
    "repLong = os.path.join(base,\"repeats-long\")\n",
    "repShort = os.path.join(base,\"repeats-short\")"
   ]
  },
  {
   "cell_type": "code",
   "execution_count": 6,
   "metadata": {},
   "outputs": [
    {
     "data": {
      "text/plain": [
       "'\\n# import shutil\\n#Now we can move the files above to another location so we can process it\\nfor filename in os.listdir():\\n    if filename.endswith(\".hdf5\") and \\'sequential\\' in filename:\\n        print(\"Moving {}\".format(filename))\\n        shutil.move(os.path.join(base,filename),seq)\\n    if filename.endswith(\".hdf5\") and \\'repeats_long\\' in filename:\\n        print(\"Moving {}\".format(filename))\\n        shutil.move(os.path.join(base,filename),repLong)\\n    if filename.endswith(\".hdf5\") and \\'repeats_short\\' in filename:\\n        print(\"Moving {}\".format(filename))\\n        shutil.move(os.path.join(base,filename),repShort)\\n'"
      ]
     },
     "execution_count": 6,
     "metadata": {},
     "output_type": "execute_result"
    }
   ],
   "source": [
    "'''\n",
    "# import shutil\n",
    "#Now we can move the files above to another location so we can process it\n",
    "for filename in os.listdir():\n",
    "    if filename.endswith(\".hdf5\") and 'sequential' in filename:\n",
    "        print(\"Moving {}\".format(filename))\n",
    "        shutil.move(os.path.join(base,filename),seq)\n",
    "    if filename.endswith(\".hdf5\") and 'repeats_long' in filename:\n",
    "        print(\"Moving {}\".format(filename))\n",
    "        shutil.move(os.path.join(base,filename),repLong)\n",
    "    if filename.endswith(\".hdf5\") and 'repeats_short' in filename:\n",
    "        print(\"Moving {}\".format(filename))\n",
    "        shutil.move(os.path.join(base,filename),repShort)\n",
    "'''"
   ]
  },
  {
   "cell_type": "code",
   "execution_count": 11,
   "metadata": {},
   "outputs": [
    {
     "data": {
      "text/html": [
       "<div>\n",
       "<style scoped>\n",
       "    .dataframe tbody tr th:only-of-type {\n",
       "        vertical-align: middle;\n",
       "    }\n",
       "\n",
       "    .dataframe tbody tr th {\n",
       "        vertical-align: top;\n",
       "    }\n",
       "\n",
       "    .dataframe thead th {\n",
       "        text-align: right;\n",
       "    }\n",
       "</style>\n",
       "<table border=\"1\" class=\"dataframe\">\n",
       "  <thead>\n",
       "    <tr style=\"text-align: right;\">\n",
       "      <th></th>\n",
       "      <th>EMG_2</th>\n",
       "      <th>EMG_3</th>\n",
       "      <th>EMG_4</th>\n",
       "      <th>EMG_5</th>\n",
       "      <th>EMG_6</th>\n",
       "      <th>EMG_7</th>\n",
       "      <th>EMG_8</th>\n",
       "      <th>EMG_9</th>\n",
       "      <th>EMG_10</th>\n",
       "      <th>EMG_11</th>\n",
       "      <th>...</th>\n",
       "      <th>EMG_16</th>\n",
       "      <th>EMG_17</th>\n",
       "      <th>EMG_18</th>\n",
       "      <th>EMG_19</th>\n",
       "      <th>EMG_20</th>\n",
       "      <th>EMG_21</th>\n",
       "      <th>EMG_22</th>\n",
       "      <th>EMG_23</th>\n",
       "      <th>EMG_24</th>\n",
       "      <th>TRAJ_1</th>\n",
       "    </tr>\n",
       "  </thead>\n",
       "  <tbody>\n",
       "    <tr>\n",
       "      <th>-0.058426</th>\n",
       "      <td>-3.0</td>\n",
       "      <td>-3.0</td>\n",
       "      <td>-1.0</td>\n",
       "      <td>-4.0</td>\n",
       "      <td>-5.0</td>\n",
       "      <td>-6.0</td>\n",
       "      <td>-5.0</td>\n",
       "      <td>-3.0</td>\n",
       "      <td>-4.0</td>\n",
       "      <td>-3.0</td>\n",
       "      <td>...</td>\n",
       "      <td>-2.0</td>\n",
       "      <td>-3.0</td>\n",
       "      <td>-3.0</td>\n",
       "      <td>-3.0</td>\n",
       "      <td>-3.0</td>\n",
       "      <td>-2.0</td>\n",
       "      <td>-3.0</td>\n",
       "      <td>-3.0</td>\n",
       "      <td>-3.0</td>\n",
       "      <td>-1.0</td>\n",
       "    </tr>\n",
       "    <tr>\n",
       "      <th>-0.058230</th>\n",
       "      <td>3.0</td>\n",
       "      <td>3.0</td>\n",
       "      <td>3.0</td>\n",
       "      <td>1.0</td>\n",
       "      <td>-2.0</td>\n",
       "      <td>-2.0</td>\n",
       "      <td>0.0</td>\n",
       "      <td>1.0</td>\n",
       "      <td>2.0</td>\n",
       "      <td>3.0</td>\n",
       "      <td>...</td>\n",
       "      <td>4.0</td>\n",
       "      <td>-3.0</td>\n",
       "      <td>0.0</td>\n",
       "      <td>-1.0</td>\n",
       "      <td>-1.0</td>\n",
       "      <td>0.0</td>\n",
       "      <td>0.0</td>\n",
       "      <td>-2.0</td>\n",
       "      <td>-1.0</td>\n",
       "      <td>-1.0</td>\n",
       "    </tr>\n",
       "    <tr>\n",
       "      <th>-0.058035</th>\n",
       "      <td>18.0</td>\n",
       "      <td>17.0</td>\n",
       "      <td>16.0</td>\n",
       "      <td>15.0</td>\n",
       "      <td>6.0</td>\n",
       "      <td>8.0</td>\n",
       "      <td>12.0</td>\n",
       "      <td>12.0</td>\n",
       "      <td>16.0</td>\n",
       "      <td>14.0</td>\n",
       "      <td>...</td>\n",
       "      <td>17.0</td>\n",
       "      <td>0.0</td>\n",
       "      <td>8.0</td>\n",
       "      <td>5.0</td>\n",
       "      <td>3.0</td>\n",
       "      <td>6.0</td>\n",
       "      <td>3.0</td>\n",
       "      <td>4.0</td>\n",
       "      <td>5.0</td>\n",
       "      <td>-1.0</td>\n",
       "    </tr>\n",
       "    <tr>\n",
       "      <th>-0.057840</th>\n",
       "      <td>30.0</td>\n",
       "      <td>31.0</td>\n",
       "      <td>27.0</td>\n",
       "      <td>26.0</td>\n",
       "      <td>16.0</td>\n",
       "      <td>17.0</td>\n",
       "      <td>22.0</td>\n",
       "      <td>22.0</td>\n",
       "      <td>27.0</td>\n",
       "      <td>23.0</td>\n",
       "      <td>...</td>\n",
       "      <td>28.0</td>\n",
       "      <td>0.0</td>\n",
       "      <td>15.0</td>\n",
       "      <td>10.0</td>\n",
       "      <td>8.0</td>\n",
       "      <td>13.0</td>\n",
       "      <td>6.0</td>\n",
       "      <td>9.0</td>\n",
       "      <td>11.0</td>\n",
       "      <td>-1.0</td>\n",
       "    </tr>\n",
       "    <tr>\n",
       "      <th>-0.057645</th>\n",
       "      <td>34.0</td>\n",
       "      <td>35.0</td>\n",
       "      <td>31.0</td>\n",
       "      <td>30.0</td>\n",
       "      <td>21.0</td>\n",
       "      <td>19.0</td>\n",
       "      <td>26.0</td>\n",
       "      <td>25.0</td>\n",
       "      <td>30.0</td>\n",
       "      <td>27.0</td>\n",
       "      <td>...</td>\n",
       "      <td>32.0</td>\n",
       "      <td>0.0</td>\n",
       "      <td>17.0</td>\n",
       "      <td>13.0</td>\n",
       "      <td>9.0</td>\n",
       "      <td>14.0</td>\n",
       "      <td>8.0</td>\n",
       "      <td>10.0</td>\n",
       "      <td>13.0</td>\n",
       "      <td>-1.0</td>\n",
       "    </tr>\n",
       "  </tbody>\n",
       "</table>\n",
       "<p>5 rows × 24 columns</p>\n",
       "</div>"
      ],
      "text/plain": [
       "           EMG_2  EMG_3  EMG_4  EMG_5  EMG_6  EMG_7  EMG_8  EMG_9  EMG_10  \\\n",
       "-0.058426   -3.0   -3.0   -1.0   -4.0   -5.0   -6.0   -5.0   -3.0    -4.0   \n",
       "-0.058230    3.0    3.0    3.0    1.0   -2.0   -2.0    0.0    1.0     2.0   \n",
       "-0.058035   18.0   17.0   16.0   15.0    6.0    8.0   12.0   12.0    16.0   \n",
       "-0.057840   30.0   31.0   27.0   26.0   16.0   17.0   22.0   22.0    27.0   \n",
       "-0.057645   34.0   35.0   31.0   30.0   21.0   19.0   26.0   25.0    30.0   \n",
       "\n",
       "           EMG_11  ...  EMG_16  EMG_17  EMG_18  EMG_19  EMG_20  EMG_21  \\\n",
       "-0.058426    -3.0  ...    -2.0    -3.0    -3.0    -3.0    -3.0    -2.0   \n",
       "-0.058230     3.0  ...     4.0    -3.0     0.0    -1.0    -1.0     0.0   \n",
       "-0.058035    14.0  ...    17.0     0.0     8.0     5.0     3.0     6.0   \n",
       "-0.057840    23.0  ...    28.0     0.0    15.0    10.0     8.0    13.0   \n",
       "-0.057645    27.0  ...    32.0     0.0    17.0    13.0     9.0    14.0   \n",
       "\n",
       "           EMG_22  EMG_23  EMG_24  TRAJ_1  \n",
       "-0.058426    -3.0    -3.0    -3.0    -1.0  \n",
       "-0.058230     0.0    -2.0    -1.0    -1.0  \n",
       "-0.058035     3.0     4.0     5.0    -1.0  \n",
       "-0.057840     6.0     9.0    11.0    -1.0  \n",
       "-0.057645     8.0    10.0    13.0    -1.0  \n",
       "\n",
       "[5 rows x 24 columns]"
      ]
     },
     "execution_count": 11,
     "metadata": {},
     "output_type": "execute_result"
    }
   ],
   "source": [
    "os.chdir(seq)\n",
    "filename = os.listdir()[0]\n",
    "data = pd.read_hdf(filename)\n",
    "data = data.iloc[:,1:25]\n",
    "data.head()"
   ]
  },
  {
   "cell_type": "code",
   "execution_count": 8,
   "metadata": {},
   "outputs": [],
   "source": [
    "#import our module\n",
    "from DataExtractor import hdfSlidingData\n",
    "\n",
    "window = 1347583 #Set a default window size\n",
    "slider = hdfSlidingData(window)\n",
    "#define file paths\n",
    "base = \"/Users/adish/Documents/School/Fall 2021 Courses/Deep Learning - Signals/Final Project/EMGGestureClassification/Data/Data-HDF5\"\n",
    "\n",
    "seq = os.path.join(base,\"sequential\")\n",
    "repLong = os.path.join(base,\"repeats-long\")\n",
    "repShort = os.path.join(base,\"repeats-short\")"
   ]
  },
  {
   "cell_type": "code",
   "execution_count": 14,
   "metadata": {},
   "outputs": [
    {
     "data": {
      "text/plain": [
       "[<matplotlib.lines.Line2D at 0x7fe9669cfe50>]"
      ]
     },
     "execution_count": 14,
     "metadata": {},
     "output_type": "execute_result"
    },
    {
     "data": {
      "image/png": "[encoded data removed]",
      "text/plain": [
       "<Figure size 432x288 with 1 Axes>"
      ]
     },
     "metadata": {
      "needs_background": "light"
     },
     "output_type": "display_data"
    }
   ],
   "source": [
    "import matplotlib.pyplot as plt\n",
    "#try running our class on one file\n",
    "os.chdir(seq)\n",
    "filename = os.listdir()[0]\n",
    "\n",
    "data = pd.read_hdf(filename)\n",
    "sliceEnd = 256_000\n",
    "plt.plot(data.index[:sliceEnd],data.iloc[:sliceEnd,24])\n"
   ]
  },
  {
   "cell_type": "code",
   "execution_count": 35,
   "metadata": {},
   "outputs": [],
   "source": [
    "df = data.iloc[7311:8311,0:25]\n",
    "\n",
    "cols = df.columns"
   ]
  },
  {
   "cell_type": "code",
   "execution_count": 37,
   "metadata": {},
   "outputs": [
    {
     "data": {
      "text/plain": [
       "-1.0"
      ]
     },
     "execution_count": 37,
     "metadata": {},
     "output_type": "execute_result"
    }
   ],
   "source": [
    "from statistics import mode\n",
    "mode(df[cols[-1]].values.tolist()[:10])"
   ]
  },
  {
   "cell_type": "code",
   "execution_count": null,
   "metadata": {},
   "outputs": [],
   "source": []
  },
  {
   "cell_type": "code",
   "execution_count": null,
   "metadata": {},
   "outputs": [],
   "source": []
  },
  {
   "cell_type": "code",
   "execution_count": null,
   "metadata": {},
   "outputs": [],
   "source": []
  },
  {
   "cell_type": "code",
   "execution_count": null,
   "metadata": {},
   "outputs": [],
   "source": []
  },
  {
   "cell_type": "code",
   "execution_count": null,
   "metadata": {},
   "outputs": [],
   "source": []
  },
  {
   "cell_type": "code",
   "execution_count": null,
   "metadata": {},
   "outputs": [],
   "source": []
  },
  {
   "cell_type": "code",
   "execution_count": null,
   "metadata": {},
   "outputs": [],
   "source": []
  },
  {
   "cell_type": "code",
   "execution_count": null,
   "metadata": {},
   "outputs": [],
   "source": []
  },
  {
   "cell_type": "code",
   "execution_count": null,
   "metadata": {},
   "outputs": [],
   "source": []
  },
  {
   "cell_type": "code",
   "execution_count": null,
   "metadata": {},
   "outputs": [],
   "source": []
  }
 ],
 "metadata": {
  "kernelspec": {
   "display_name": "Python 3",
   "language": "python",
   "name": "python3"
  },
  "language_info": {
   "codemirror_mode": {
    "name": "ipython",
    "version": 3
   },
   "file_extension": ".py",
   "mimetype": "text/x-python",
   "name": "python",
   "nbconvert_exporter": "python",
   "pygments_lexer": "ipython3",
   "version": "3.8.5"
  }
 },
 "nbformat": 4,
 "nbformat_minor": 4
}
